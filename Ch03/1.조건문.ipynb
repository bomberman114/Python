{
 "cells": [
  {
   "cell_type": "code",
   "execution_count": null,
   "metadata": {},
   "outputs": [],
   "source": [
    "\"\"\"\n",
    "날짜 : 2023/01/03\n",
    "이름 : 조현길\n",
    "내용 : 파이썬 조건문 실습하기\n",
    "\"\"\""
   ]
  },
  {
   "cell_type": "code",
   "execution_count": null,
   "metadata": {},
   "outputs": [],
   "source": [
    "# if\n",
    "num1, num2 = 1, 2\n",
    "\n",
    "if num1 > 0:\n",
    "    print('num1은 0보다 크다.')\n",
    "\n",
    "if num1 > num2:\n",
    "    print('num1은 num2보다 크다.')\n",
    "\n",
    "\n",
    "if num1 > 0:\n",
    "    if num2 > 1:\n",
    "        print('num1은 0보다 크고 num2는 1보다 크다.')\n",
    "\n",
    "if num1 > 0 and num2 > 1:\n",
    "    print('num1은 0보다 크고 그리고 num2는 1보다 크다.')"
   ]
  },
  {
   "attachments": {},
   "cell_type": "markdown",
   "metadata": {},
   "source": [
    "num1은 0보다 크다.\n",
    "num1은 0보다 크고 num2는 1보다 크다.\n",
    "num1은 0보다 크고 그리고 num2는 1보다 크다."
   ]
  },
  {
   "cell_type": "code",
   "execution_count": null,
   "metadata": {},
   "outputs": [],
   "source": [
    "# if ~ else\n",
    "num3, num4 = 3, 4\n",
    "\n",
    "if num3 > num4:\n",
    "    print('num3는 num4보다 크다.')\n",
    "else:\n",
    "    print('num3는 num4보다 작다.')\n",
    "    "
   ]
  },
  {
   "attachments": {},
   "cell_type": "markdown",
   "metadata": {},
   "source": [
    "num3는 num4보다 작다."
   ]
  },
  {
   "cell_type": "code",
   "execution_count": null,
   "metadata": {},
   "outputs": [],
   "source": [
    "# if ~ elif ~ else\n",
    "n1, n2, n3, n4 = 1, 2, 3, 4\n",
    "\n",
    "if n1 > n2:\n",
    "    print('n1은 n2보다 크다.')\n",
    "elif n2 > n3:\n",
    "    print('n2은 n3보다 크다.')\n",
    "elif n3 > n4:\n",
    "    print('n3은 n4보다 크다.')\n",
    "else:\n",
    "    print('n4가 가장 크다.')\n",
    "    "
   ]
  },
  {
   "attachments": {},
   "cell_type": "markdown",
   "metadata": {},
   "source": [
    "n4가 가장 크다."
   ]
  },
  {
   "cell_type": "code",
   "execution_count": null,
   "metadata": {},
   "outputs": [],
   "source": [
    "# 연습문제\n",
    "score = int(input('점수입력 :'))\n",
    "\n",
    "if score >= 90 and score <= 100:\n",
    "    print('A입니다.')\n",
    "elif 80 <= score < 90: \n",
    "    print('B입니다.')\n",
    "elif 70 <= score < 80: \n",
    "    print('C입니다.')\n",
    "elif 60 <= score < 70: \n",
    "    print('D입니다.')\n",
    "else:    \n",
    "    print('F입니다.')"
   ]
  },
  {
   "attachments": {},
   "cell_type": "markdown",
   "metadata": {},
   "source": [
    "B입니다."
   ]
  }
 ],
 "metadata": {
  "language_info": {
   "name": "python"
  },
  "orig_nbformat": 4
 },
 "nbformat": 4,
 "nbformat_minor": 2
}
