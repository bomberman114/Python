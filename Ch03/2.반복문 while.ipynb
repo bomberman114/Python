{
 "cells": [
  {
   "cell_type": "code",
   "execution_count": null,
   "metadata": {},
   "outputs": [],
   "source": [
    "\"\"\"\n",
    "날짜 : 2023/01/03\n",
    "이름 : 조현길\n",
    "내용 : 파이썬 반복문 while 실습하기\n",
    "\"\"\""
   ]
  },
  {
   "cell_type": "code",
   "execution_count": null,
   "metadata": {},
   "outputs": [],
   "source": [
    "# while\n",
    "i = 1\n",
    "\n",
    "while i<=5:\n",
    "    print('i :', i)\n",
    "    i+=1"
   ]
  },
  {
   "attachments": {},
   "cell_type": "markdown",
   "metadata": {},
   "source": [
    "i : 1\n",
    "i : 2\n",
    "i : 3\n",
    "i : 4\n",
    "i : 5"
   ]
  },
  {
   "cell_type": "code",
   "execution_count": null,
   "metadata": {},
   "outputs": [],
   "source": [
    "# 1부터 10까지 합\n",
    "total, k = 0, 1\n",
    "\n",
    "while k<=10:\n",
    "    total += k\n",
    "    k+=1\n",
    "\n",
    "print('1부터 10까지 합 :', total)"
   ]
  },
  {
   "attachments": {},
   "cell_type": "markdown",
   "metadata": {},
   "source": [
    "\n",
    "1부터 10까지 합 : 55"
   ]
  },
  {
   "cell_type": "code",
   "execution_count": null,
   "metadata": {},
   "outputs": [],
   "source": [
    "# 1부터 10까지 짝수합\n",
    "total, k = 0, 1\n",
    "\n",
    "while k<=10:\n",
    "    \n",
    "    if k % 2 == 0:\n",
    "        total += k\n",
    "\n",
    "    k+=1\n",
    "\n",
    "\n",
    "print('1부터 10까지 짝수합 :', total)"
   ]
  },
  {
   "attachments": {},
   "cell_type": "markdown",
   "metadata": {},
   "source": [
    "1부터 10까지 짝수합 : 30"
   ]
  },
  {
   "cell_type": "code",
   "execution_count": null,
   "metadata": {},
   "outputs": [],
   "source": [
    "# break\n",
    "num = 1\n",
    "\n",
    "while True:\n",
    "\n",
    "    if num % 5 == 0 and num % 7 == 0:\n",
    "        break\n",
    "\n",
    "    num += 1\n",
    "\n",
    "print('5와 7의 최소공배수 :', num)"
   ]
  },
  {
   "attachments": {},
   "cell_type": "markdown",
   "metadata": {},
   "source": [
    "\n",
    "5와 7의 최소공배수 : 35"
   ]
  },
  {
   "cell_type": "code",
   "execution_count": null,
   "metadata": {},
   "outputs": [],
   "source": [
    "# continue\n",
    "n = 0\n",
    "\n",
    "while n <= 9:\n",
    "\n",
    "    n += 1\n",
    "\n",
    "    if n % 2 == 0:\n",
    "        continue\n",
    "\n",
    "    print(n, end=' ')"
   ]
  },
  {
   "attachments": {},
   "cell_type": "markdown",
   "metadata": {},
   "source": [
    "1 3 5 7 9 "
   ]
  }
 ],
 "metadata": {
  "language_info": {
   "name": "python"
  },
  "orig_nbformat": 4
 },
 "nbformat": 4,
 "nbformat_minor": 2
}
