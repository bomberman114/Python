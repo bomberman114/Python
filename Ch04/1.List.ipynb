{
 "cells": [
  {
   "cell_type": "code",
   "execution_count": null,
   "metadata": {},
   "outputs": [],
   "source": [
    "\"\"\"\n",
    "날짜 : 2023/01/04\n",
    "이름 : 조현길\n",
    "내용 : 파이썬 자료구조 List 실습하기\n",
    "\"\"\""
   ]
  },
  {
   "cell_type": "code",
   "execution_count": null,
   "metadata": {},
   "outputs": [],
   "source": [
    "# 리스트\n",
    "data = [1, 2, 3, 4, 5]\n",
    "print('data type :', type(data))\n",
    "print('data[0] :', data[0])\n",
    "print('data[2] :', data[2])\n",
    "print('data[3] :', data[3])"
   ]
  },
  {
   "attachments": {},
   "cell_type": "markdown",
   "metadata": {},
   "source": [
    "data type : \n",
    "data[0] : 1\n",
    "data[2] : 3\n",
    "data[3] : 4"
   ]
  },
  {
   "cell_type": "code",
   "execution_count": null,
   "metadata": {},
   "outputs": [],
   "source": [
    "# 여러 종류 데이터를 저장하는 리스트\n",
    "data = [5, 3.14, True, 'Apple']\n",
    "print('data type :', type(data))\n",
    "print('data[0] :', data[0])\n",
    "print('data[2] :', data[2])\n",
    "print('data[3] :', data[3])"
   ]
  },
  {
   "attachments": {},
   "cell_type": "markdown",
   "metadata": {},
   "source": [
    "data type : \n",
    "data[0] : 5\n",
    "data[2] : True\n",
    "data[3] : Apple"
   ]
  },
  {
   "cell_type": "code",
   "execution_count": null,
   "metadata": {},
   "outputs": [],
   "source": [
    "# 다차원 리스트\n",
    "data = [[1, 2, 3], \n",
    "        [4, 5, 6], \n",
    "        [7, 8, 9]]\n",
    "\n",
    "print('data[0][0] :', data[0][0])\n",
    "print('data[1][1] :', data[1][1])\n",
    "print('data[2][1] :', data[2][1])"
   ]
  },
  {
   "attachments": {},
   "cell_type": "markdown",
   "metadata": {},
   "source": [
    "data[0][0] : 1\n",
    "data[1][1] : 5\n",
    "data[2][1] : 8"
   ]
  },
  {
   "cell_type": "code",
   "execution_count": null,
   "metadata": {},
   "outputs": [],
   "source": [
    "# 리스트 수정, 추가, 삭제\n",
    "data = [1, 2, 3, 4, 5]\n",
    "\n",
    "data[1] = 7\n",
    "print('data :', data)\n",
    "\n",
    "data[2:4] = [7, 8, 9]\n",
    "print('data :', data)\n",
    "\n",
    "data[3:5] = []\n",
    "print('data :', data)"
   ]
  },
  {
   "attachments": {},
   "cell_type": "markdown",
   "metadata": {},
   "source": [
    "data : [1, 7, 3, 4, 5]\n",
    "data : [1, 7, 7, 8, 9, 5]\n",
    "data : [1, 7, 7, 5]"
   ]
  },
  {
   "cell_type": "code",
   "execution_count": null,
   "metadata": {},
   "outputs": [],
   "source": [
    "# 리스트 반복문\n",
    "for n in [1, 3, 5, 7, 9]:\n",
    "    print('n :', n)\n",
    "\n",
    "cities = ['서울', '대전', '대구', '부산', '광주']\n",
    "for city in cities:\n",
    "    print('city :', city)\n",
    "\n",
    "for index, value in enumerate(cities):\n",
    "    print('cities[%d] : %s' % (index, value))"
   ]
  },
  {
   "cell_type": "code",
   "execution_count": null,
   "metadata": {},
   "outputs": [],
   "source": [
    "# 리스트 comprehension\n",
    "data = [1, 2, 3, 4, 5]\n",
    "\n",
    "rs1 = [num * 2 for num in data]\n",
    "rs2 = [num * 3 for num in data if num % 2 == 1]\n",
    "\n",
    "print('rs1 :', rs1)\n",
    "print('rs2 :', rs2)"
   ]
  }
 ],
 "metadata": {
  "kernelspec": {
   "display_name": "Python 3",
   "language": "python",
   "name": "python3"
  },
  "language_info": {
   "name": "python",
   "version": "3.11.1 (tags/v3.11.1:a7a450f, Dec  6 2022, 19:58:39) [MSC v.1934 64 bit (AMD64)]"
  },
  "orig_nbformat": 4,
  "vscode": {
   "interpreter": {
    "hash": "de47f5c92c0ee6f12a59a5613ac5feff6aab19ddff207ba0b3964cced08c4ccc"
   }
  }
 },
 "nbformat": 4,
 "nbformat_minor": 2
}
