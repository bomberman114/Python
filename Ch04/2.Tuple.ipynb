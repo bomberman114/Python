{
 "cells": [
  {
   "cell_type": "code",
   "execution_count": null,
   "metadata": {},
   "outputs": [],
   "source": [
    "\"\"\"\n",
    "날짜 : 2023/01/04\n",
    "이름 : 조현길\n",
    "내용 : 파이썬 자료구조 Tuple 실습하기\n",
    "\"\"\""
   ]
  },
  {
   "cell_type": "code",
   "execution_count": null,
   "metadata": {},
   "outputs": [],
   "source": [
    "# 튜플\n",
    "data = (1, 2, 3, 4, 5)\n",
    "print('data type :', type(data))\n",
    "print('data[0] :', data[0])\n",
    "print('data[2] :', data[2])\n",
    "print('data[3] :', data[3])\n",
    "\n",
    "cities = ('서울', '대전', '대구', '부산', '광주')\n",
    "for city in cities:\n",
    "    print('city :', city)"
   ]
  },
  {
   "cell_type": "code",
   "execution_count": null,
   "metadata": {},
   "outputs": [],
   "source": [
    "# 튜플 수정, 추가, 삭제\n",
    "data = 1, 2, 3, 4, 5\n",
    "print('data type :', type(data))\n",
    "\n",
    "data[0] = 7 # 튜플 데이터 수정, 추가, 삭제 안됨"
   ]
  },
  {
   "attachments": {},
   "cell_type": "markdown",
   "metadata": {},
   "source": [
    "data type : \n",
    "---------------------------------------------------------------------------\n",
    "TypeError                                 Traceback (most recent call last)\n",
    "Cell In[4], line 5\n",
    "      2 data = 1, 2, 3, 4, 5\n",
    "      3 print('data type :', type(data))\n",
    "----> 5 data[0] = 7\n",
    "\n",
    "TypeError: 'tuple' object does not support item assignment"
   ]
  }
 ],
 "metadata": {
  "kernelspec": {
   "display_name": "Python 3",
   "language": "python",
   "name": "python3"
  },
  "language_info": {
   "name": "python",
   "version": "3.11.1 (tags/v3.11.1:a7a450f, Dec  6 2022, 19:58:39) [MSC v.1934 64 bit (AMD64)]"
  },
  "orig_nbformat": 4,
  "vscode": {
   "interpreter": {
    "hash": "de47f5c92c0ee6f12a59a5613ac5feff6aab19ddff207ba0b3964cced08c4ccc"
   }
  }
 },
 "nbformat": 4,
 "nbformat_minor": 2
}
