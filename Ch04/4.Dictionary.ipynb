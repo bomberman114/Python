{
 "cells": [
  {
   "cell_type": "code",
   "execution_count": null,
   "metadata": {},
   "outputs": [],
   "source": [
    "\"\"\"\n",
    "날짜 : 2023/01/04\n",
    "이름 : 조현길\n",
    "내용 : 파이썬 자료구조 Dictionary 실습하기\n",
    "\"\"\""
   ]
  },
  {
   "cell_type": "code",
   "execution_count": null,
   "metadata": {},
   "outputs": [],
   "source": [
    "# 딕셔너리\n",
    "data = {'A':'Apple', 'B':'Banana', 'C':'Cherry'}\n",
    "\n",
    "print('data type :', type(data))\n",
    "print('data :', data)\n",
    "print(\"data['A'] :\", data['A'])\n",
    "print(\"data['B'] :\", data['B'])\n",
    "print(\"data['C'] :\", data['C'])"
   ]
  },
  {
   "attachments": {},
   "cell_type": "markdown",
   "metadata": {},
   "source": [
    "data type : \n",
    "data : {'A': 'Apple', 'B': 'Banana', 'C': 'Cherry'}\n",
    "data['A'] : Apple\n",
    "data['B'] : Banana\n",
    "data['C'] : Cherry"
   ]
  },
  {
   "cell_type": "code",
   "execution_count": null,
   "metadata": {},
   "outputs": [],
   "source": [
    "# 딕셔너리 활용\n",
    "data = {\n",
    "    101: [1, 2, 3, 4, 5],\n",
    "    102: (6, 7, 8, 9, 10),\n",
    "    103: {'서울', '대전', '대구', '부산', '광주'},\n",
    "    104: {'p1': '김유신', 'p2': '김춘추', 'p3': '장보고'}\n",
    "}\n",
    "\n",
    "print(data[101][4])\n",
    "print(data[102][1])\n",
    "print(data[104]['p2'])"
   ]
  },
  {
   "attachments": {},
   "cell_type": "markdown",
   "metadata": {},
   "source": [
    "5"
   ]
  },
  {
   "cell_type": "code",
   "execution_count": null,
   "metadata": {},
   "outputs": [],
   "source": [
    "# 딕셔너리 반복문\n",
    "data = {1: '서울', 2: '대전', 3: '대구', 4: '부산', 5: '광주'}\n",
    "\n",
    "for k, v in data.items():\n",
    "    print(k, v)"
   ]
  },
  {
   "cell_type": "markdown",
   "metadata": {},
   "source": [
    "1 서울\n",
    "2 대전\n",
    "3 대구\n",
    "4 부산\n",
    "5 광주"
   ]
  }
 ],
 "metadata": {
  "kernelspec": {
   "display_name": "Python 3",
   "language": "python",
   "name": "python3"
  },
  "language_info": {
   "name": "python",
   "version": "3.11.1 (tags/v3.11.1:a7a450f, Dec  6 2022, 19:58:39) [MSC v.1934 64 bit (AMD64)]"
  },
  "orig_nbformat": 4,
  "vscode": {
   "interpreter": {
    "hash": "de47f5c92c0ee6f12a59a5613ac5feff6aab19ddff207ba0b3964cced08c4ccc"
   }
  }
 },
 "nbformat": 4,
 "nbformat_minor": 2
}
