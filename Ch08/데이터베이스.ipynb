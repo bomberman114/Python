{
 "cells": [
  {
   "cell_type": "code",
   "execution_count": 4,
   "metadata": {},
   "outputs": [
    {
     "ename": "ModuleNotFoundError",
     "evalue": "No module named 'pymysql'",
     "output_type": "error",
     "traceback": [
      "\u001b[1;31m---------------------------------------------------------------------------\u001b[0m",
      "\u001b[1;31mModuleNotFoundError\u001b[0m                       Traceback (most recent call last)",
      "Cell \u001b[1;32mIn[4], line 6\u001b[0m\n\u001b[0;32m      1\u001b[0m \u001b[39m\"\"\"\u001b[39;00m\n\u001b[0;32m      2\u001b[0m \u001b[39m날짜 : 2023/01/13\u001b[39;00m\n\u001b[0;32m      3\u001b[0m \u001b[39m이름 : 조현길\u001b[39;00m\n\u001b[0;32m      4\u001b[0m \u001b[39m내용 : 파이썬 데이터베이스 프로그래밍 실습\u001b[39;00m\n\u001b[0;32m      5\u001b[0m \u001b[39m\"\"\"\u001b[39;00m\n\u001b[1;32m----> 6\u001b[0m \u001b[39mimport\u001b[39;00m \u001b[39mpymysql\u001b[39;00m\n",
      "\u001b[1;31mModuleNotFoundError\u001b[0m: No module named 'pymysql'"
     ]
    }
   ],
   "source": [
    "\"\"\"\n",
    "날짜 : 2023/01/13\n",
    "이름 : 조현길\n",
    "내용 : 파이썬 데이터베이스 프로그래밍 실습\n",
    "\"\"\"\n",
    "import pymysql"
   ]
  },
  {
   "cell_type": "code",
   "execution_count": 1,
   "metadata": {},
   "outputs": [
    {
     "ename": "NameError",
     "evalue": "name 'pymysql' is not defined",
     "output_type": "error",
     "traceback": [
      "\u001b[1;31m---------------------------------------------------------------------------\u001b[0m",
      "\u001b[1;31mNameError\u001b[0m                                 Traceback (most recent call last)",
      "Cell \u001b[1;32mIn[1], line 3\u001b[0m\n\u001b[0;32m      1\u001b[0m \u001b[39m# Insert 실습\u001b[39;00m\n\u001b[0;32m      2\u001b[0m \u001b[39m# 데이터베이스 접속\u001b[39;00m\n\u001b[1;32m----> 3\u001b[0m conn \u001b[39m=\u001b[39m pymysql\u001b[39m.\u001b[39mconnect(host\u001b[39m=\u001b[39m\u001b[39m'\u001b[39m\u001b[39m127.0.0.1\u001b[39m\u001b[39m'\u001b[39m, \n\u001b[0;32m      4\u001b[0m                         user\u001b[39m=\u001b[39m\u001b[39m'\u001b[39m\u001b[39mroot\u001b[39m\u001b[39m'\u001b[39m, \n\u001b[0;32m      5\u001b[0m                         password\u001b[39m=\u001b[39m\u001b[39m'\u001b[39m\u001b[39m1234\u001b[39m\u001b[39m'\u001b[39m, \n\u001b[0;32m      6\u001b[0m                         db\u001b[39m=\u001b[39m\u001b[39m'\u001b[39m\u001b[39mjava2db\u001b[39m\u001b[39m'\u001b[39m, \n\u001b[0;32m      7\u001b[0m                         charset\u001b[39m=\u001b[39m\u001b[39m'\u001b[39m\u001b[39mutf8\u001b[39m\u001b[39m'\u001b[39m)\n\u001b[0;32m      9\u001b[0m \u001b[39m# SQL 실행객체\u001b[39;00m\n\u001b[0;32m     10\u001b[0m cur \u001b[39m=\u001b[39m conn\u001b[39m.\u001b[39mcursor()\n",
      "\u001b[1;31mNameError\u001b[0m: name 'pymysql' is not defined"
     ]
    }
   ],
   "source": [
    "# Insert 실습\n",
    "# 데이터베이스 접속\n",
    "conn = pymysql.connect(host='127.0.0.1', \n",
    "                        user='root', \n",
    "                        password='1234', \n",
    "                        db='java2db', \n",
    "                        charset='utf8')\n",
    "\n",
    "# SQL 실행객체\n",
    "cur = conn.cursor()\n",
    "\n",
    "# SQL 실행\n",
    "sql = \"insert into `user3` values ('a101', '김춘추', '010-1243-0101', 12)\"\n",
    "cur.execute(sql)\n",
    "conn.commit()\n",
    "\n",
    "# 데이터베이스 종료\n",
    "conn.close()\n",
    "print('Insert 완료...')"
   ]
  },
  {
   "cell_type": "code",
   "execution_count": 2,
   "metadata": {},
   "outputs": [
    {
     "ename": "NameError",
     "evalue": "name 'pymysql' is not defined",
     "output_type": "error",
     "traceback": [
      "\u001b[1;31m---------------------------------------------------------------------------\u001b[0m",
      "\u001b[1;31mNameError\u001b[0m                                 Traceback (most recent call last)",
      "Cell \u001b[1;32mIn[2], line 3\u001b[0m\n\u001b[0;32m      1\u001b[0m \u001b[39m# Update 실습\u001b[39;00m\n\u001b[0;32m      2\u001b[0m \u001b[39m# 데이터베이스 접속\u001b[39;00m\n\u001b[1;32m----> 3\u001b[0m conn \u001b[39m=\u001b[39m pymysql\u001b[39m.\u001b[39mconnect(host\u001b[39m=\u001b[39m\u001b[39m'\u001b[39m\u001b[39m127.0.0.1\u001b[39m\u001b[39m'\u001b[39m, \n\u001b[0;32m      4\u001b[0m                         user\u001b[39m=\u001b[39m\u001b[39m'\u001b[39m\u001b[39mroot\u001b[39m\u001b[39m'\u001b[39m, \n\u001b[0;32m      5\u001b[0m                         password\u001b[39m=\u001b[39m\u001b[39m'\u001b[39m\u001b[39m1234\u001b[39m\u001b[39m'\u001b[39m, \n\u001b[0;32m      6\u001b[0m                         db\u001b[39m=\u001b[39m\u001b[39m'\u001b[39m\u001b[39mjava2db\u001b[39m\u001b[39m'\u001b[39m, \n\u001b[0;32m      7\u001b[0m                         charset\u001b[39m=\u001b[39m\u001b[39m'\u001b[39m\u001b[39mutf8\u001b[39m\u001b[39m'\u001b[39m)\n\u001b[0;32m      9\u001b[0m \u001b[39m# SQL 실행객체\u001b[39;00m\n\u001b[0;32m     10\u001b[0m cur \u001b[39m=\u001b[39m conn\u001b[39m.\u001b[39mcursor()\n",
      "\u001b[1;31mNameError\u001b[0m: name 'pymysql' is not defined"
     ]
    }
   ],
   "source": [
    "# Update 실습\n",
    "# 데이터베이스 접속\n",
    "conn = pymysql.connect(host='127.0.0.1', \n",
    "                        user='root', \n",
    "                        password='1234', \n",
    "                        db='java2db', \n",
    "                        charset='utf8')\n",
    "\n",
    "# SQL 실행객체\n",
    "cur = conn.cursor()\n",
    "\n",
    "# SQL 실행\n",
    "sql = \"update `user3` set \"\n",
    "sql += \"`name`='홍길동',\"\n",
    "sql += \"`hp`='010-1211-1010',\"\n",
    "sql += \"`age`=22 \"\n",
    "sql += \"where `uid`='a101'\"\n",
    "\n",
    "cur.execute(sql)\n",
    "conn.commit()\n",
    "\n",
    "# 데이터베이스 종료\n",
    "conn.close()\n",
    "print('Update 완료...')"
   ]
  },
  {
   "cell_type": "code",
   "execution_count": 3,
   "metadata": {},
   "outputs": [
    {
     "ename": "NameError",
     "evalue": "name 'pymysql' is not defined",
     "output_type": "error",
     "traceback": [
      "\u001b[1;31m---------------------------------------------------------------------------\u001b[0m",
      "\u001b[1;31mNameError\u001b[0m                                 Traceback (most recent call last)",
      "Cell \u001b[1;32mIn[3], line 3\u001b[0m\n\u001b[0;32m      1\u001b[0m \u001b[39m# Delete 실습\u001b[39;00m\n\u001b[0;32m      2\u001b[0m \u001b[39m# 데이터베이스 접속\u001b[39;00m\n\u001b[1;32m----> 3\u001b[0m conn \u001b[39m=\u001b[39m pymysql\u001b[39m.\u001b[39mconnect(host\u001b[39m=\u001b[39m\u001b[39m'\u001b[39m\u001b[39m127.0.0.1\u001b[39m\u001b[39m'\u001b[39m, \n\u001b[0;32m      4\u001b[0m                         user\u001b[39m=\u001b[39m\u001b[39m'\u001b[39m\u001b[39mroot\u001b[39m\u001b[39m'\u001b[39m, \n\u001b[0;32m      5\u001b[0m                         password\u001b[39m=\u001b[39m\u001b[39m'\u001b[39m\u001b[39m1234\u001b[39m\u001b[39m'\u001b[39m, \n\u001b[0;32m      6\u001b[0m                         db\u001b[39m=\u001b[39m\u001b[39m'\u001b[39m\u001b[39mjava2db\u001b[39m\u001b[39m'\u001b[39m, \n\u001b[0;32m      7\u001b[0m                         charset\u001b[39m=\u001b[39m\u001b[39m'\u001b[39m\u001b[39mutf8\u001b[39m\u001b[39m'\u001b[39m)\n\u001b[0;32m      9\u001b[0m \u001b[39m# SQL 실행객체\u001b[39;00m\n\u001b[0;32m     10\u001b[0m cur \u001b[39m=\u001b[39m conn\u001b[39m.\u001b[39mcursor()\n",
      "\u001b[1;31mNameError\u001b[0m: name 'pymysql' is not defined"
     ]
    }
   ],
   "source": [
    "# Delete 실습\n",
    "# 데이터베이스 접속\n",
    "conn = pymysql.connect(host='127.0.0.1', \n",
    "                        user='root', \n",
    "                        password='1234', \n",
    "                        db='java2db', \n",
    "                        charset='utf8')\n",
    "\n",
    "# SQL 실행객체\n",
    "cur = conn.cursor()\n",
    "\n",
    "# SQL 실행\n",
    "cur.execute(\"delete from `user3` where `uid`='a101'\")\n",
    "conn.commit()\n",
    "\n",
    "# 데이터베이스 종료\n",
    "conn.close()\n",
    "print('Delete 완료...')"
   ]
  },
  {
   "cell_type": "code",
   "execution_count": 5,
   "metadata": {},
   "outputs": [
    {
     "ename": "ModuleNotFoundError",
     "evalue": "No module named 'sub'",
     "output_type": "error",
     "traceback": [
      "\u001b[1;31m---------------------------------------------------------------------------\u001b[0m",
      "\u001b[1;31mModuleNotFoundError\u001b[0m                       Traceback (most recent call last)",
      "Cell \u001b[1;32mIn[5], line 2\u001b[0m\n\u001b[0;32m      1\u001b[0m \u001b[39m# Select 실습\u001b[39;00m\n\u001b[1;32m----> 2\u001b[0m \u001b[39mfrom\u001b[39;00m \u001b[39msub\u001b[39;00m\u001b[39m.\u001b[39;00m\u001b[39mUser3VO\u001b[39;00m \u001b[39mimport\u001b[39;00m User3VO\n\u001b[0;32m      4\u001b[0m \u001b[39m# 데이터베이스 접속\u001b[39;00m\n\u001b[0;32m      5\u001b[0m conn \u001b[39m=\u001b[39m pymysql\u001b[39m.\u001b[39mconnect(host\u001b[39m=\u001b[39m\u001b[39m'\u001b[39m\u001b[39m127.0.0.1\u001b[39m\u001b[39m'\u001b[39m, \n\u001b[0;32m      6\u001b[0m                         user\u001b[39m=\u001b[39m\u001b[39m'\u001b[39m\u001b[39mroot\u001b[39m\u001b[39m'\u001b[39m, \n\u001b[0;32m      7\u001b[0m                         password\u001b[39m=\u001b[39m\u001b[39m'\u001b[39m\u001b[39m1234\u001b[39m\u001b[39m'\u001b[39m, \n\u001b[0;32m      8\u001b[0m                         db\u001b[39m=\u001b[39m\u001b[39m'\u001b[39m\u001b[39mjava2db\u001b[39m\u001b[39m'\u001b[39m, \n\u001b[0;32m      9\u001b[0m                         charset\u001b[39m=\u001b[39m\u001b[39m'\u001b[39m\u001b[39mutf8\u001b[39m\u001b[39m'\u001b[39m)\n",
      "\u001b[1;31mModuleNotFoundError\u001b[0m: No module named 'sub'"
     ]
    }
   ],
   "source": [
    "# Select 실습\n",
    "from sub.User3VO import User3VO\n",
    "\n",
    "# 데이터베이스 접속\n",
    "conn = pymysql.connect(host='127.0.0.1', \n",
    "                        user='root', \n",
    "                        password='1234', \n",
    "                        db='java2db', \n",
    "                        charset='utf8')\n",
    "\n",
    "# SQL 실행객체\n",
    "cur = conn.cursor()\n",
    "\n",
    "# SQL 실행\n",
    "cur.execute(\"select * from `user3`\")\n",
    "conn.commit()\n",
    "\n",
    "# 결과 데이터 생성\n",
    "users = []\n",
    "for row in cur.fetchall():    \n",
    "    user = User3VO(row[0], row[1], row[2], row[3])\n",
    "    users.append(user)   \n",
    "    \n",
    "# 데이터베이스 종료\n",
    "conn.close()\n",
    "print('Select 완료...')\n",
    "\n",
    "# 결과출력\n",
    "for user in users:\n",
    "    print('----------------')\n",
    "    print('아이디 :', user.uid)\n",
    "    print('이름 :', user.name)\n",
    "    print('휴대폰 :', user.hp)\n",
    "    print('나이 :', user.age)"
   ]
  }
 ],
 "metadata": {
  "kernelspec": {
   "display_name": "Python 3",
   "language": "python",
   "name": "python3"
  },
  "language_info": {
   "codemirror_mode": {
    "name": "ipython",
    "version": 3
   },
   "file_extension": ".py",
   "mimetype": "text/x-python",
   "name": "python",
   "nbconvert_exporter": "python",
   "pygments_lexer": "ipython3",
   "version": "3.11.1"
  },
  "orig_nbformat": 4,
  "vscode": {
   "interpreter": {
    "hash": "de47f5c92c0ee6f12a59a5613ac5feff6aab19ddff207ba0b3964cced08c4ccc"
   }
  }
 },
 "nbformat": 4,
 "nbformat_minor": 2
}
